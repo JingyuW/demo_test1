{
    "cells": [
        {
            "metadata": {},
            "cell_type": "markdown",
            "source": "# Chapter 1 Python Basics"
        },
        {
            "metadata": {},
            "cell_type": "markdown",
            "source": "01/22/2021 $\\quad$ Jingyu Wang "
        },
        {
            "metadata": {},
            "cell_type": "markdown",
            "source": "### The Python Interface\n----------------------------------------\n#### 1. Using Python as calculator. "
        },
        {
            "metadata": {},
            "cell_type": "code",
            "source": "# Division\nprint(5/8)",
            "execution_count": 6,
            "outputs": [
                {
                    "output_type": "stream",
                    "text": "0.625\n",
                    "name": "stdout"
                }
            ]
        },
        {
            "metadata": {},
            "cell_type": "code",
            "source": "#Addition\nprint(7+10)",
            "execution_count": 5,
            "outputs": [
                {
                    "output_type": "stream",
                    "text": "17\n",
                    "name": "stdout"
                }
            ]
        },
        {
            "metadata": {},
            "cell_type": "markdown",
            "source": "  - Exponentiation: $**$ This operator raises the number to its left to the power of the number to its right.\n\n  - Modulo: $%$  This operator returns the remainder of the division of the number to the left by the number on its right."
        },
        {
            "metadata": {},
            "cell_type": "code",
            "source": "print(4 ** 2)\nprint(18 % 7)",
            "execution_count": 7,
            "outputs": [
                {
                    "output_type": "stream",
                    "text": "16\n4\n",
                    "name": "stdout"
                }
            ]
        },
        {
            "metadata": {},
            "cell_type": "markdown",
            "source": "#### 2. Variable \n\n - Specific, case-sencitive\n\n - call variables name to get value\n"
        },
        {
            "metadata": {},
            "cell_type": "code",
            "source": "savings = 100\nprint(savings)",
            "execution_count": 7,
            "outputs": [
                {
                    "output_type": "stream",
                    "text": "100\n",
                    "name": "stdout"
                }
            ]
        },
        {
            "metadata": {},
            "cell_type": "markdown",
            "source": "#### 3. Types\n\n - int, or integer: a number without a fractional part. savings, with the value $100$, is an example of an integer.\n \n - float, or floating point: a number that has both an integer and fractional part, separated by a point. growth_multiplier, with the value $1.1$, is an example of a float. (real number)\n \n - str, or string: a type to represent text. You can use single or double quotes to build a string.\n \n - bool, or boolean: a type to represent logical values. Can only be True or False (the capitalization is important!)."
        },
        {
            "metadata": {},
            "cell_type": "code",
            "source": "# Types CHECKING\nx=\"body mass index\"\ntype(x)",
            "execution_count": 8,
            "outputs": [
                {
                    "output_type": "execute_result",
                    "execution_count": 8,
                    "data": {
                        "text/plain": "str"
                    },
                    "metadata": {}
                }
            ]
        },
        {
            "metadata": {},
            "cell_type": "code",
            "source": "y=True #Notes: TRUE does not work\ntype(y)",
            "execution_count": 5,
            "outputs": [
                {
                    "output_type": "execute_result",
                    "execution_count": 5,
                    "data": {
                        "text/plain": "bool"
                    },
                    "metadata": {}
                }
            ]
        },
        {
            "metadata": {},
            "cell_type": "code",
            "source": "# SUM of string \n'ab'+'cd' ",
            "execution_count": 6,
            "outputs": [
                {
                    "output_type": "execute_result",
                    "execution_count": 6,
                    "data": {
                        "text/plain": "'abcd'"
                    },
                    "metadata": {}
                }
            ]
        },
        {
            "metadata": {},
            "cell_type": "code",
            "source": "# compound interest \nprint(type(x))    ",
            "execution_count": 9,
            "outputs": [
                {
                    "output_type": "stream",
                    "text": "<class 'str'>\n",
                    "name": "stdout"
                }
            ]
        },
        {
            "metadata": {},
            "cell_type": "markdown",
            "source": "   - Type Conversion\n      \n     **str()**, to convert a value into a string\n     \n     **int()**, **float()** and **bool()** will help you convert Python values into any type.\n   \n      _Notes: Keep consistancy of variable types when doing PRINT_."
        },
        {
            "metadata": {},
            "cell_type": "code",
            "source": "# Definition of savings and result\nsavings = 100\nresult = 100 * 1.10 ** 7\n\n# Fix the printout\nprint(\"I started with $\" + str(savings) + \" and now have $\" + str(result) + \". Awesome!\")",
            "execution_count": 11,
            "outputs": [
                {
                    "output_type": "stream",
                    "text": "I started with $100 and now have $194.87171000000012. Awesome!\n",
                    "name": "stdout"
                }
            ]
        },
        {
            "metadata": {},
            "cell_type": "markdown",
            "source": "### Python Lists\n--------------------------------------\n#### 1. Lists\n - contain any lists\n - contain different types"
        },
        {
            "metadata": {},
            "cell_type": "code",
            "source": "a = \"is\"\nb = \"nice\"\nmy_list = [\"my\", \"list\", a, b]\nprint(my_list)",
            "execution_count": 2,
            "outputs": [
                {
                    "output_type": "stream",
                    "text": "['my', 'list', 'is', 'nice']\n",
                    "name": "stdout"
                }
            ]
        },
        {
            "metadata": {},
            "cell_type": "code",
            "source": "# Contain differnet types\n# area variables (in square meters)\nhall = 11.25\nkit = 18.0\nliv = 20.0\nbed = 10.75\nbath = 9.50\n\n# Adapt list areas\nareas = [\"hallway\", hall,\"kitchen\", kit]\n\n# Print areas\nprint(areas)",
            "execution_count": 4,
            "outputs": [
                {
                    "output_type": "stream",
                    "text": "['hallway', 11.25, 'kitchen', 18.0]\n",
                    "name": "stdout"
                }
            ]
        },
        {
            "metadata": {},
            "cell_type": "code",
            "source": "# house information as list of lists (Sublists)\nhouse = [[\"hallway\", hall],\n         [\"kitchen\", kit],\n         [\"living room\", liv],\n         [\"bedroom\", bed],\n         [\"bathroom\", bath]]\n\n# Print out house\nprint(house)\n\n# Print out the type of house\ntype(house)",
            "execution_count": 5,
            "outputs": [
                {
                    "output_type": "stream",
                    "text": "[['hallway', 11.25], ['kitchen', 18.0], ['living room', 20.0], ['bedroom', 10.75], ['bathroom', 9.5]]\n",
                    "name": "stdout"
                },
                {
                    "output_type": "execute_result",
                    "execution_count": 5,
                    "data": {
                        "text/plain": "list"
                    },
                    "metadata": {}
                }
            ]
        },
        {
            "metadata": {},
            "cell_type": "markdown",
            "source": "#### 2. Subsetting Lists\n - Access info from the list\n \n   [start : end]\n   \n   inclusive  exclusive"
        },
        {
            "metadata": {},
            "cell_type": "code",
            "source": "x = [\"a\", \"b\", \"c\", \"d\"]\nx[1] ",
            "execution_count": 8,
            "outputs": [
                {
                    "output_type": "execute_result",
                    "execution_count": 8,
                    "data": {
                        "text/plain": "'b'"
                    },
                    "metadata": {}
                }
            ]
        },
        {
            "metadata": {},
            "cell_type": "code",
            "source": "x[-3]# same result!",
            "execution_count": 9,
            "outputs": [
                {
                    "output_type": "execute_result",
                    "execution_count": 9,
                    "data": {
                        "text/plain": "'b'"
                    },
                    "metadata": {}
                }
            ]
        },
        {
            "metadata": {},
            "cell_type": "code",
            "source": "x[:2]",
            "execution_count": 11,
            "outputs": [
                {
                    "output_type": "execute_result",
                    "execution_count": 11,
                    "data": {
                        "text/plain": "['a', 'b']"
                    },
                    "metadata": {}
                }
            ]
        },
        {
            "metadata": {},
            "cell_type": "markdown",
            "source": " - Subsets and calculate"
        },
        {
            "metadata": {},
            "cell_type": "code",
            "source": "print(x[1] + x[3])",
            "execution_count": 12,
            "outputs": [
                {
                    "output_type": "stream",
                    "text": "bd\n",
                    "name": "stdout"
                }
            ]
        },
        {
            "metadata": {},
            "cell_type": "markdown",
            "source": " - Subsetting lists of lists"
        },
        {
            "metadata": {},
            "cell_type": "code",
            "source": "x = [[\"a\", \"b\", \"c\"],\n     [\"d\", \"e\", \"f\"],\n     [\"g\", \"h\", \"i\"]]\nx[2][0] #Select subset first then select element from that subset",
            "execution_count": 15,
            "outputs": [
                {
                    "output_type": "execute_result",
                    "execution_count": 15,
                    "data": {
                        "text/plain": "'g'"
                    },
                    "metadata": {}
                }
            ]
        },
        {
            "metadata": {},
            "cell_type": "code",
            "source": "x[2][:2]",
            "execution_count": 14,
            "outputs": [
                {
                    "output_type": "execute_result",
                    "execution_count": 14,
                    "data": {
                        "text/plain": "['g', 'h']"
                    },
                    "metadata": {}
                }
            ]
        },
        {
            "metadata": {},
            "cell_type": "code",
            "source": "x[1]",
            "execution_count": 17,
            "outputs": [
                {
                    "output_type": "execute_result",
                    "execution_count": 17,
                    "data": {
                        "text/plain": "['d', 'e', 'f']"
                    },
                    "metadata": {}
                }
            ]
        },
        {
            "metadata": {},
            "cell_type": "code",
            "source": "x[-1][1]",
            "execution_count": 18,
            "outputs": [
                {
                    "output_type": "execute_result",
                    "execution_count": 18,
                    "data": {
                        "text/plain": "'h'"
                    },
                    "metadata": {}
                }
            ]
        },
        {
            "metadata": {},
            "cell_type": "markdown",
            "source": "#### 3. Manipulating Lists"
        },
        {
            "metadata": {},
            "cell_type": "markdown",
            "source": " - Change list elements"
        },
        {
            "metadata": {},
            "cell_type": "code",
            "source": "x = [\"a\", \"b\", \"c\", \"d\"]\nx[1] = \"r\"\nx[2:] = [\"s\", \"t\"]\nprint(x)",
            "execution_count": 20,
            "outputs": [
                {
                    "output_type": "stream",
                    "text": "['a', 'r', 's', 't']\n",
                    "name": "stdout"
                }
            ]
        },
        {
            "metadata": {},
            "cell_type": "markdown",
            "source": " - Add list elements"
        },
        {
            "metadata": {},
            "cell_type": "code",
            "source": "x_new = x+[\"e\",\"f\"]\nprint(x_new)",
            "execution_count": 22,
            "outputs": [
                {
                    "output_type": "stream",
                    "text": "['a', 'r', 's', 't', 'e', 'f']\n",
                    "name": "stdout"
                }
            ]
        },
        {
            "metadata": {},
            "cell_type": "markdown",
            "source": " - Remove list elements"
        },
        {
            "metadata": {},
            "cell_type": "code",
            "source": "del(x[-1])\nprint(x)",
            "execution_count": 32,
            "outputs": [
                {
                    "output_type": "stream",
                    "text": "['a', 'r', 's']\n",
                    "name": "stdout"
                }
            ]
        },
        {
            "metadata": {},
            "cell_type": "markdown",
            "source": " - Python lists work behind the scenes"
        },
        {
            "metadata": {},
            "cell_type": "code",
            "source": "x = [\"a\", \"b\", \"c\", \"d\"]\ny= x  # when y=x, we copy the reference of x\ny[1] = \"z\"\nx",
            "execution_count": 38,
            "outputs": [
                {
                    "output_type": "execute_result",
                    "execution_count": 38,
                    "data": {
                        "text/plain": "['a', 'z', 'c', 'd']"
                    },
                    "metadata": {}
                }
            ]
        },
        {
            "metadata": {},
            "cell_type": "code",
            "source": "x = [\"a\", \"b\", \"c\", \"d\"]\ny= list(x) # only copy the contains of x\ny[1] = \"z\"\nx",
            "execution_count": 37,
            "outputs": [
                {
                    "output_type": "execute_result",
                    "execution_count": 37,
                    "data": {
                        "text/plain": "['a', 'b', 'c', 'd']"
                    },
                    "metadata": {}
                }
            ]
        },
        {
            "metadata": {},
            "cell_type": "markdown",
            "source": "### Functions and Packages\n------------------------------\n\n#### 1. Functions\n\n- Call function instead of you write ur own python code, e.g. max(), round(), and the general recipe for calling functions and saving the result to a variable is thus:\n \n     ```output = function_name(input)```\n\n    _Notes: help(round) is used to check how to use functionin Python_"
        },
        {
            "metadata": {},
            "cell_type": "code",
            "source": "round(1.68,1)",
            "execution_count": 2,
            "outputs": [
                {
                    "output_type": "execute_result",
                    "execution_count": 2,
                    "data": {
                        "text/plain": "1.7"
                    },
                    "metadata": {}
                }
            ]
        },
        {
            "metadata": {},
            "cell_type": "code",
            "source": "round(1.68)",
            "execution_count": 3,
            "outputs": [
                {
                    "output_type": "execute_result",
                    "execution_count": 3,
                    "data": {
                        "text/plain": "2"
                    },
                    "metadata": {}
                }
            ]
        },
        {
            "metadata": {},
            "cell_type": "markdown",
            "source": " - **sorted()** takes three arguments: iterable, key and reverse\n \n   ```sorted(___, reverse = ___)```"
        },
        {
            "metadata": {},
            "cell_type": "code",
            "source": "# Create lists first and second\nfirst = [11.25, 18.0, 20.0]\nsecond = [10.75, 9.50]\n\n# Paste together first and second: full\nfull = first + second\n\n# Sort full in descending order: full_sorted\nfull_sorted = sorted(full, reverse = True)\n\n# Print out full_sorted\nprint(full_sorted)",
            "execution_count": 4,
            "outputs": [
                {
                    "output_type": "stream",
                    "text": "[20.0, 18.0, 11.25, 10.75, 9.5]\n",
                    "name": "stdout"
                }
            ]
        },
        {
            "metadata": {},
            "cell_type": "markdown",
            "source": "#### 2. Methods\n\n - methods: functions that belong to objects\n - everything = object\n - object have methods associated, depending on type\n - _some code can change the object they call on_ \n - **append()**, that adds an element to the list it is called on\n - **remove()**, that removes the first element of a list that matches the input\n - **reverse()**, that reverses the order of the elements in the list it is called on.\n \n |                     |        | type | examples of methods            |\n | ------------------- |:------:|:----:| ------------------------------:|\n |```sister = \"liz\"``` | object | str  |capitalize(),replace()          |\n |```height = 1.73```  | object | float| bit_length(), conjugate()      |\n |```fam = [\"liz\",1.73, \"emma\",1.68]```| object |list | index(), count()|\n "
        },
        {
            "metadata": {},
            "cell_type": "code",
            "source": "fam = [\"liz\",1.73, \"emma\",1.68]\nfam.index(\"emma\")",
            "execution_count": 15,
            "outputs": [
                {
                    "output_type": "execute_result",
                    "execution_count": 15,
                    "data": {
                        "text/plain": "2"
                    },
                    "metadata": {}
                }
            ]
        },
        {
            "metadata": {},
            "cell_type": "code",
            "source": "fam.count(1.73)",
            "execution_count": 9,
            "outputs": [
                {
                    "output_type": "execute_result",
                    "execution_count": 9,
                    "data": {
                        "text/plain": "1"
                    },
                    "metadata": {}
                }
            ]
        },
        {
            "metadata": {},
            "cell_type": "code",
            "source": "fam.append(\"me\") # Changing the object\nfam",
            "execution_count": 17,
            "outputs": [
                {
                    "output_type": "execute_result",
                    "execution_count": 17,
                    "data": {
                        "text/plain": "['liz', 1.73, 'emma', 1.68, 'me']"
                    },
                    "metadata": {}
                }
            ]
        },
        {
            "metadata": {},
            "cell_type": "code",
            "source": "fam.append(1.79)\nfam",
            "execution_count": 18,
            "outputs": [
                {
                    "output_type": "execute_result",
                    "execution_count": 18,
                    "data": {
                        "text/plain": "['liz', 1.73, 'emma', 1.68, 'me', 1.79]"
                    },
                    "metadata": {}
                }
            ]
        },
        {
            "metadata": {},
            "cell_type": "markdown",
            "source": "#### 3. Packages\n\n - each script = module\n - To use packages: \n    - Download ```get-pip.py```\n    - Terminal ```python3 get-pip.py  pip3 install numpy```\n "
        },
        {
            "metadata": {},
            "cell_type": "code",
            "source": "import numpy\nnumpy.array([1,2,3])",
            "execution_count": 2,
            "outputs": [
                {
                    "output_type": "execute_result",
                    "execution_count": 2,
                    "data": {
                        "text/plain": "array([1, 2, 3])"
                    },
                    "metadata": {}
                }
            ]
        },
        {
            "metadata": {},
            "cell_type": "code",
            "source": "import numpy as np # this way make it more clear\nnp.array([1,2,3])",
            "execution_count": 4,
            "outputs": [
                {
                    "output_type": "execute_result",
                    "execution_count": 4,
                    "data": {
                        "text/plain": "array([1, 2, 3])"
                    },
                    "metadata": {}
                }
            ]
        },
        {
            "metadata": {},
            "cell_type": "code",
            "source": "from numpy import array\narray([1,2,3])",
            "execution_count": 5,
            "outputs": [
                {
                    "output_type": "execute_result",
                    "execution_count": 5,
                    "data": {
                        "text/plain": "array([1, 2, 3])"
                    },
                    "metadata": {}
                }
            ]
        },
        {
            "metadata": {},
            "cell_type": "code",
            "source": "# Example \n# Definition of radius\nr = 0.43\n\n# Import the math package\nimport math\n\n# Calculate C\nC = 2*math.pi*r\n\n# Calculate A\nA = math.pi*(r**2)\n\n# Build printout\nprint(\"Circumference: \" + str(C))\nprint(\"Area: \" + str(A))",
            "execution_count": 6,
            "outputs": [
                {
                    "output_type": "stream",
                    "text": "Circumference: 2.701769682087222\nArea: 0.5808804816487527\n",
                    "name": "stdout"
                }
            ]
        },
        {
            "metadata": {},
            "cell_type": "code",
            "source": "# Example of Selective import\n\n# Definition of radius\nr = 192500\n\n# Import radians function of math package\nfrom math import radians\n\n# Travel distance of Moon over 12 degrees. Store in dist.\ndist = r * radians(12)\n\n# Print out dist\nprint(dist)",
            "execution_count": 7,
            "outputs": [
                {
                    "output_type": "stream",
                    "text": "40317.10572106901\n",
                    "name": "stdout"
                }
            ]
        },
        {
            "metadata": {},
            "cell_type": "markdown",
            "source": "### Numpy\n-------------------------------\n#### 1. numpy\n   - numpy contain only one type \n   - Motivation: we cannot do math on list"
        },
        {
            "metadata": {},
            "cell_type": "code",
            "source": "#to subset both regular Python lists and numpy arrays\nx = [4 , 9 , 6, 3, 1]\nprint(x[1])\nimport numpy as np\ny = np.array(x)\nprint(y[1])\nprint(type(y))",
            "execution_count": 6,
            "outputs": [
                {
                    "output_type": "stream",
                    "text": "9\n9\n<class 'numpy.ndarray'>\n",
                    "name": "stdout"
                }
            ]
        },
        {
            "metadata": {},
            "cell_type": "code",
            "source": "# cannot accept different types\nnp.array([True, 1, 2]) + np.array([3, 4, False])",
            "execution_count": 5,
            "outputs": [
                {
                    "output_type": "execute_result",
                    "execution_count": 5,
                    "data": {
                        "text/plain": "array([4, 5, 2])"
                    },
                    "metadata": {}
                }
            ]
        },
        {
            "metadata": {},
            "cell_type": "markdown",
            "source": "#### 2. 2D Numpy Arrays \n - also only accept one type"
        },
        {
            "metadata": {},
            "cell_type": "code",
            "source": "np_2d = np.array([[1.73,1.68,1.71,1.89,1.79],\n                  [65.4,59.2,63.6,88.4,68.7]])\nnp_2d",
            "execution_count": 7,
            "outputs": [
                {
                    "output_type": "execute_result",
                    "execution_count": 7,
                    "data": {
                        "text/plain": "array([[ 1.73,  1.68,  1.71,  1.89,  1.79],\n       [65.4 , 59.2 , 63.6 , 88.4 , 68.7 ]])"
                    },
                    "metadata": {}
                }
            ]
        },
        {
            "metadata": {},
            "cell_type": "code",
            "source": "np_2d.shape # 2 rows, 5 colums",
            "execution_count": 8,
            "outputs": [
                {
                    "output_type": "execute_result",
                    "execution_count": 8,
                    "data": {
                        "text/plain": "(2, 5)"
                    },
                    "metadata": {}
                }
            ]
        },
        {
            "metadata": {},
            "cell_type": "code",
            "source": "np_2d[0][2] #choose row first chen choose column",
            "execution_count": 9,
            "outputs": [
                {
                    "output_type": "execute_result",
                    "execution_count": 9,
                    "data": {
                        "text/plain": "1.71"
                    },
                    "metadata": {}
                }
            ]
        },
        {
            "metadata": {},
            "cell_type": "code",
            "source": "np_2d[:,1:3]",
            "execution_count": 10,
            "outputs": [
                {
                    "output_type": "execute_result",
                    "execution_count": 10,
                    "data": {
                        "text/plain": "array([[ 1.68,  1.71],\n       [59.2 , 63.6 ]])"
                    },
                    "metadata": {}
                }
            ]
        },
        {
            "metadata": {},
            "cell_type": "markdown",
            "source": " - 2D Arithmetic"
        },
        {
            "metadata": {},
            "cell_type": "code",
            "source": "import numpy as np\nnp_mat = np.array([[1, 2],\n                   [3, 4],\n                   [5, 6]])\nprint(np_mat * 2)\nprint(np_mat + np.array([10, 10]))\nprint(np_mat + np_mat)",
            "execution_count": 3,
            "outputs": [
                {
                    "output_type": "stream",
                    "text": "[[ 2  4]\n [ 6  8]\n [10 12]]\n[[11 12]\n [13 14]\n [15 16]]\n[[ 2  4]\n [ 6  8]\n [10 12]]\n",
                    "name": "stdout"
                }
            ]
        },
        {
            "metadata": {},
            "cell_type": "markdown",
            "source": "#### 3. Numpy\uff1a Basic Statistics\n - mean ```np.mean```\n - median ```np.median()```\n - Generate data ```np.random.normal()```"
        },
        {
            "metadata": {},
            "cell_type": "code",
            "source": "import numpy as np\nheight = np.round(np.random.normal(0,1,10),2)\nprint(height)\nprint(len(height))",
            "execution_count": 2,
            "outputs": [
                {
                    "output_type": "stream",
                    "text": "[ 0.27  2.52 -0.45  1.27  0.82  0.19  0.5   0.76  0.71  1.52]\n10\n",
                    "name": "stdout"
                }
            ]
        },
        {
            "metadata": {},
            "cell_type": "markdown",
            "source": ""
        }
    ],
    "metadata": {
        "kernelspec": {
            "name": "python3",
            "display_name": "Python 3.7",
            "language": "python"
        },
        "language_info": {
            "name": "python",
            "version": "3.7.9",
            "mimetype": "text/x-python",
            "codemirror_mode": {
                "name": "ipython",
                "version": 3
            },
            "pygments_lexer": "ipython3",
            "nbconvert_exporter": "python",
            "file_extension": ".py"
        }
    },
    "nbformat": 4,
    "nbformat_minor": 1
}